{
 "cells": [
  {
   "cell_type": "code",
   "execution_count": 4,
   "id": "36272cbc",
   "metadata": {},
   "outputs": [],
   "source": [
    "from pycaret.regression import * \n",
    "import pandas as pd \n",
    "import numpy as np\n",
    "import streamlit as st\n",
    "from PIL import Image\n",
    "import os"
   ]
  },
  {
   "cell_type": "code",
   "execution_count": 16,
   "id": "78ffdd53",
   "metadata": {},
   "outputs": [
    {
     "name": "stderr",
     "output_type": "stream",
     "text": [
      "2021-11-11 13:37:35.984 Initializing load_model()\n",
      "2021-11-11 13:37:35.986 load_model(model_name=../model/Final_Huber_Model_10Nov2021, platform=None, authentication=None, verbose=True)\n"
     ]
    },
    {
     "name": "stdout",
     "output_type": "stream",
     "text": [
      "Transformation Pipeline and Model Successfully Loaded\n"
     ]
    }
   ],
   "source": [
    "model = load_model('../model/Final_Huber_Model_10Nov2021')"
   ]
  },
  {
   "cell_type": "code",
   "execution_count": 17,
   "id": "26aa6e59",
   "metadata": {},
   "outputs": [
    {
     "name": "stderr",
     "output_type": "stream",
     "text": [
      "2021-11-11 13:38:06.010 Initializing load_model()\n",
      "2021-11-11 13:38:06.011 load_model(model_name=../model/Final_Huber_Model_10Nov2021, platform=None, authentication=None, verbose=True)\n"
     ]
    },
    {
     "name": "stdout",
     "output_type": "stream",
     "text": [
      "Transformation Pipeline and Model Successfully Loaded\n"
     ]
    }
   ],
   "source": [
    "class StreamlitApp:\n",
    "    \n",
    "    def __init__(self):\n",
    "       # self.model = load_model('../model/Final_Huber_Model_10Nov2021') \n",
    "        self.model = model\n",
    "        self.save_fn = 'path.csv'     \n",
    "        \n",
    "    def predict(self, input_data): \n",
    "        return predict_model(self.model, data=input_data)\n",
    "    \n",
    "    def store_prediction(self, output_df): \n",
    "        if os.path.exists(self.save_fn):\n",
    "            save_df = pd.read_csv(self.save_fn)\n",
    "            save_df = save_df.append(output_df, ignore_index=True)\n",
    "            save_df.to_csv(self.save_fn, index=False)\n",
    "            \n",
    "        else: \n",
    "            output_df.to_csv(self.save_fn, index=False)  \n",
    "            \n",
    "    \n",
    "    def run(self):\n",
    "        image = Image.open('../assets/pretty_house.jpg')\n",
    "        st.image(image, use_column_width=False)\n",
    "    \n",
    "    \n",
    "        add_selectbox = st.sidebar.selectbox('How would you like to predict?', ('Online', 'Batch')) \n",
    "        st.sidebar.info('This app is created to predict house prices' )\n",
    "        st.sidebar.success('DAT158')\n",
    "        st.title('House prices prediction')\n",
    "        \n",
    "       \n",
    "        if add_selectbox == 'Online': \n",
    "            OverallQual = st.number_input('OverallQual', min_value=1, max_value=10, value=5)\n",
    "            MSZoning = st.selectbox('MSZoning', ['A', 'C', 'FV', 'I', 'RH', 'RL', 'RP','RM'])\n",
    "            GrLivArea = st.number_input('GrLivArea', min_value=300, max_value=6000, value=1500)\n",
    "            OverallCond = st.number_input('OverallCond', min_value=1, max_value=9, value=5)            \n",
    "            GarageType = st.selectbox('GarageType', ['2Types', 'Attchd', 'Basment', 'BuiltIn', 'CarPort', 'Detchd', 'NA'])\n",
    "            LandSlope = st.selectbox('LandSlope', ['Gtl', 'Mod', 'Sev'])\n",
    "            FullBath = st.number_input('FullBath', min_value=0, max_value=5, value=0)  \n",
    "            Neighborhood = st.selectbox('Neighborhood', ['Blmngtn', 'Blueste', 'BrDale', 'BrkSide', 'ClearCr', \n",
    "                                                         'CollgCr', 'Crawfor', 'Edwards', 'Gilbert', 'IDOTRR', \n",
    "                                                         'MeadowV', 'Mitchel', 'Names','NoRidge', 'NPkVill', \n",
    "                                                         'NridgHt', 'NWAmes', 'OldTown','SWISU', 'Sawyer', \n",
    "                                                         'SawyerW', 'Somerst', 'StoneBr', 'Timber', 'Veenker', 'Up', 'Down'])\n",
    "            Functional = st.selectbox('Functional', ['Typ', 'Min1', 'Min2', 'Mod', 'Maj1', 'Maj2', 'Sev', 'Sal'])\n",
    "            \n",
    "            \n",
    "            output=''\n",
    "            input_dict = {'OverallQual':OverallQual, 'MSZoning':MSZoning, 'GrLivArea':GrLivArea, 'OverallCond':OverallCond, \n",
    "                          'GarageType':GarageType, 'LandSlope':LandSlope, \n",
    "                          'FullBath':FullBath, 'Neighborhood':Neighborhood, 'Functional':Functional}\n",
    "            input_df = pd.DataFrame(input_dict, index=[0])\n",
    "        \n",
    "            if st.button('Predict'): \n",
    "                output = self.predict(input_df)\n",
    "                self.store_prediction(output)\n",
    "                \n",
    "                #output = 'Heart disease' if output['Label'][0] == 1 else 'Normal'\n",
    "                #output = str(output['Label'])\n",
    "                \n",
    "            \n",
    "            st.success('Predicted output: {}'.format(output))\n",
    "            \n",
    "        if add_selectbox == 'Batch': \n",
    "            fn = st.file_uploader(\"Upload csv file for predictions\") #st.file_uploader('Upload csv file for predictions, type=[\"csv\"]')\n",
    "            if fn is not None: \n",
    "                input_df = pd.read_csv(fn)\n",
    "                predictions = self.predict(input_df)\n",
    "                st.write(predictions)\n",
    "            \n",
    "sa = StreamlitApp()\n",
    "sa.run()"
   ]
  },
  {
   "cell_type": "code",
   "execution_count": 11,
   "id": "5f422258",
   "metadata": {},
   "outputs": [
    {
     "name": "stderr",
     "output_type": "stream",
     "text": [
      "[NbConvertApp] Converting notebook streamlit.ipynb to script\n",
      "[NbConvertApp] Writing 3883 bytes to streamlit.py\n"
     ]
    }
   ],
   "source": [
    "!jupyter nbconvert --to script streamlit.ipynb"
   ]
  }
 ],
 "metadata": {
  "kernelspec": {
   "display_name": "Python 3",
   "language": "python",
   "name": "python3"
  },
  "language_info": {
   "codemirror_mode": {
    "name": "ipython",
    "version": 3
   },
   "file_extension": ".py",
   "mimetype": "text/x-python",
   "name": "python",
   "nbconvert_exporter": "python",
   "pygments_lexer": "ipython3",
   "version": "3.8.8"
  }
 },
 "nbformat": 4,
 "nbformat_minor": 5
}
